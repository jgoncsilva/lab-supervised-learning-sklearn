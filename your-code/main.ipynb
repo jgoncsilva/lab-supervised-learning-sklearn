{
 "cells": [
  {
   "cell_type": "markdown",
   "metadata": {},
   "source": [
    "# Before your start:\n",
    "- Read the README.md file\n",
    "- Comment as much as you can and use the resources in the README.md file\n",
    "- Happy learning!"
   ]
  },
  {
   "cell_type": "code",
   "execution_count": 235,
   "metadata": {},
   "outputs": [],
   "source": [
    "# Import your libraries:\n",
    "import numpy as np \n",
    "import pandas as pd\n",
    "import sklearn\n",
    "from sklearn import datasets\n",
    "from sklearn.model_selection import train_test_split\n",
    "import statsmodels.api as sm\n",
    "\n"
   ]
  },
  {
   "cell_type": "markdown",
   "metadata": {},
   "source": [
    "# Challenge 1 - Explore the Scikit-Learn Datasets\n",
    "\n",
    "Before starting to work on our own datasets, let's first explore the datasets that are included in this Python library. These datasets have been cleaned and formatted for use in ML algorithms."
   ]
  },
  {
   "cell_type": "markdown",
   "metadata": {},
   "source": [
    "First, we will load the diabetes dataset. Do this in the cell below by importing the datasets and then loading the dataset  to the `diabetes` variable using the `load_diabetes()` function ([documentation](https://scikit-learn.org/stable/modules/generated/sklearn.datasets.load_diabetes.html))."
   ]
  },
  {
   "cell_type": "code",
   "execution_count": 236,
   "metadata": {},
   "outputs": [],
   "source": [
    "# Your code here:\n",
    "diabetes = sklearn.datasets.load_diabetes()"
   ]
  },
  {
   "cell_type": "markdown",
   "metadata": {},
   "source": [
    "Let's explore this variable by looking at the different attributes (keys) of `diabetes`. Note that the `load_diabetes` function does not return dataframes. It returns you a Python dictionary."
   ]
  },
  {
   "cell_type": "code",
   "execution_count": 237,
   "metadata": {},
   "outputs": [
    {
     "output_type": "execute_result",
     "data": {
      "text/plain": "dict_keys(['data', 'target', 'DESCR', 'feature_names', 'data_filename', 'target_filename'])"
     },
     "metadata": {},
     "execution_count": 237
    }
   ],
   "source": [
    "# Your code here:\n",
    "diabetes.keys()\n"
   ]
  },
  {
   "cell_type": "markdown",
   "metadata": {},
   "source": [
    "#### The next step is to read the description of the dataset. \n",
    "\n",
    "Print the description in the cell below using the `DESCR` attribute of the `diabetes` variable. Read the data description carefully to fully understand what each column represents.\n",
    "\n",
    "*Hint: If your output is ill-formatted by displaying linebreaks as `\\n`, it means you are not using the `print` function.*"
   ]
  },
  {
   "cell_type": "code",
   "execution_count": 238,
   "metadata": {
    "scrolled": false,
    "tags": []
   },
   "outputs": [
    {
     "output_type": "stream",
     "name": "stdout",
     "text": ".. _diabetes_dataset:\n\nDiabetes dataset\n----------------\n\nTen baseline variables, age, sex, body mass index, average blood\npressure, and six blood serum measurements were obtained for each of n =\n442 diabetes patients, as well as the response of interest, a\nquantitative measure of disease progression one year after baseline.\n\n**Data Set Characteristics:**\n\n  :Number of Instances: 442\n\n  :Number of Attributes: First 10 columns are numeric predictive values\n\n  :Target: Column 11 is a quantitative measure of disease progression one year after baseline\n\n  :Attribute Information:\n      - Age\n      - Sex\n      - Body mass index\n      - Average blood pressure\n      - S1\n      - S2\n      - S3\n      - S4\n      - S5\n      - S6\n\nNote: Each of these 10 feature variables have been mean centered and scaled by the standard deviation times `n_samples` (i.e. the sum of squares of each column totals 1).\n\nSource URL:\nhttps://www4.stat.ncsu.edu/~boos/var.select/diabetes.html\n\nFor more information see:\nBradley Efron, Trevor Hastie, Iain Johnstone and Robert Tibshirani (2004) \"Least Angle Regression,\" Annals of Statistics (with discussion), 407-499.\n(https://web.stanford.edu/~hastie/Papers/LARS/LeastAngle_2002.pdf)\n"
    }
   ],
   "source": [
    "# Your code here:\n",
    "print(diabetes.DESCR)"
   ]
  },
  {
   "cell_type": "markdown",
   "metadata": {},
   "source": [
    "#### Based on the data description, answer the following questions:\n",
    "\n",
    "1. How many attributes are there in the data? What do they mean?\n",
    "\n",
    "1. What is the relation between `diabetes['data']` and `diabetes['target']`?\n",
    "\n",
    "1. How many records are there in the data?"
   ]
  },
  {
   "cell_type": "code",
   "execution_count": 239,
   "metadata": {},
   "outputs": [
    {
     "output_type": "execute_result",
     "data": {
      "text/plain": "array([[ 0.03807591,  0.05068012,  0.06169621, ..., -0.00259226,\n         0.01990842, -0.01764613],\n       [-0.00188202, -0.04464164, -0.05147406, ..., -0.03949338,\n        -0.06832974, -0.09220405],\n       [ 0.08529891,  0.05068012,  0.04445121, ..., -0.00259226,\n         0.00286377, -0.02593034],\n       ...,\n       [ 0.04170844,  0.05068012, -0.01590626, ..., -0.01107952,\n        -0.04687948,  0.01549073],\n       [-0.04547248, -0.04464164,  0.03906215, ...,  0.02655962,\n         0.04452837, -0.02593034],\n       [-0.04547248, -0.04464164, -0.0730303 , ..., -0.03949338,\n        -0.00421986,  0.00306441]])"
     },
     "metadata": {},
     "execution_count": 239
    }
   ],
   "source": [
    "# Enter your answer here:\n",
    "#1) We have 10 Attributes! From S1 to S6 are the blood measurements.\n",
    "#2)  Target measures the progress of disease \n",
    "#3) 3.442\n",
    "diabetes['data']"
   ]
  },
  {
   "cell_type": "code",
   "execution_count": 240,
   "metadata": {},
   "outputs": [
    {
     "output_type": "execute_result",
     "data": {
      "text/plain": "array([151.,  75., 141., 206., 135.,  97., 138.,  63., 110., 310., 101.,\n        69., 179., 185., 118., 171., 166., 144.,  97., 168.,  68.,  49.,\n        68., 245., 184., 202., 137.,  85., 131., 283., 129.,  59., 341.,\n        87.,  65., 102., 265., 276., 252.,  90., 100.,  55.,  61.,  92.,\n       259.,  53., 190., 142.,  75., 142., 155., 225.,  59., 104., 182.,\n       128.,  52.,  37., 170., 170.,  61., 144.,  52., 128.,  71., 163.,\n       150.,  97., 160., 178.,  48., 270., 202., 111.,  85.,  42., 170.,\n       200., 252., 113., 143.,  51.,  52., 210.,  65., 141.,  55., 134.,\n        42., 111.,  98., 164.,  48.,  96.,  90., 162., 150., 279.,  92.,\n        83., 128., 102., 302., 198.,  95.,  53., 134., 144., 232.,  81.,\n       104.,  59., 246., 297., 258., 229., 275., 281., 179., 200., 200.,\n       173., 180.,  84., 121., 161.,  99., 109., 115., 268., 274., 158.,\n       107.,  83., 103., 272.,  85., 280., 336., 281., 118., 317., 235.,\n        60., 174., 259., 178., 128.,  96., 126., 288.,  88., 292.,  71.,\n       197., 186.,  25.,  84.,  96., 195.,  53., 217., 172., 131., 214.,\n        59.,  70., 220., 268., 152.,  47.,  74., 295., 101., 151., 127.,\n       237., 225.,  81., 151., 107.,  64., 138., 185., 265., 101., 137.,\n       143., 141.,  79., 292., 178.,  91., 116.,  86., 122.,  72., 129.,\n       142.,  90., 158.,  39., 196., 222., 277.,  99., 196., 202., 155.,\n        77., 191.,  70.,  73.,  49.,  65., 263., 248., 296., 214., 185.,\n        78.,  93., 252., 150.,  77., 208.,  77., 108., 160.,  53., 220.,\n       154., 259.,  90., 246., 124.,  67.,  72., 257., 262., 275., 177.,\n        71.,  47., 187., 125.,  78.,  51., 258., 215., 303., 243.,  91.,\n       150., 310., 153., 346.,  63.,  89.,  50.,  39., 103., 308., 116.,\n       145.,  74.,  45., 115., 264.,  87., 202., 127., 182., 241.,  66.,\n        94., 283.,  64., 102., 200., 265.,  94., 230., 181., 156., 233.,\n        60., 219.,  80.,  68., 332., 248.,  84., 200.,  55.,  85.,  89.,\n        31., 129.,  83., 275.,  65., 198., 236., 253., 124.,  44., 172.,\n       114., 142., 109., 180., 144., 163., 147.,  97., 220., 190., 109.,\n       191., 122., 230., 242., 248., 249., 192., 131., 237.,  78., 135.,\n       244., 199., 270., 164.,  72.,  96., 306.,  91., 214.,  95., 216.,\n       263., 178., 113., 200., 139., 139.,  88., 148.,  88., 243.,  71.,\n        77., 109., 272.,  60.,  54., 221.,  90., 311., 281., 182., 321.,\n        58., 262., 206., 233., 242., 123., 167.,  63., 197.,  71., 168.,\n       140., 217., 121., 235., 245.,  40.,  52., 104., 132.,  88.,  69.,\n       219.,  72., 201., 110.,  51., 277.,  63., 118.,  69., 273., 258.,\n        43., 198., 242., 232., 175.,  93., 168., 275., 293., 281.,  72.,\n       140., 189., 181., 209., 136., 261., 113., 131., 174., 257.,  55.,\n        84.,  42., 146., 212., 233.,  91., 111., 152., 120.,  67., 310.,\n        94., 183.,  66., 173.,  72.,  49.,  64.,  48., 178., 104., 132.,\n       220.,  57.])"
     },
     "metadata": {},
     "execution_count": 240
    }
   ],
   "source": [
    "diabetes['target']"
   ]
  },
  {
   "cell_type": "markdown",
   "metadata": {},
   "source": [
    "#### Now explore what are contained in the *data* portion as well as the *target* portion of `diabetes`. \n",
    "\n",
    "Scikit-learn typically takes in 2D numpy arrays as input (though pandas dataframes are also accepted). Inspect the shape of `data` and `target`. Confirm they are consistent with the data description."
   ]
  },
  {
   "cell_type": "code",
   "execution_count": 241,
   "metadata": {
    "tags": []
   },
   "outputs": [
    {
     "output_type": "stream",
     "name": "stdout",
     "text": "(442, 10)\n(442,)\n"
    }
   ],
   "source": [
    "print(diabetes['data'].shape)\n",
    "print(diabetes['target'].shape)"
   ]
  },
  {
   "cell_type": "markdown",
   "metadata": {},
   "source": [
    "# Challenge 2 - Perform Supervised Learning on the Dataset"
   ]
  },
  {
   "cell_type": "markdown",
   "metadata": {},
   "source": [
    "The data have already been split to predictor (*data*) and response (*target*) variables. Given this information, we'll apply what we have previously learned about linear regression and apply the algorithm to the diabetes dataset.\n",
    "\n",
    "#### Let's briefly revisit the linear regression formula:\n",
    "\n",
    "```\n",
    "y = β0 + β1X1 + β2X2 + ... + βnXn + ϵ\n",
    "```\n",
    "\n",
    "...where:\n",
    "\n",
    "- X1-Xn: data \n",
    "- β0: intercept \n",
    "- β1-βn: coefficients \n",
    "- ϵ: error (cannot explained by model)\n",
    "- y: target\n",
    "\n",
    "Also take a look at the `sklearn.linear_model.LinearRegression` [documentation](https://scikit-learn.org/stable/modules/generated/sklearn.linear_model.LinearRegression.html).\n",
    "\n",
    "#### In the cell below, import the `linear_model` class from `sklearn`. "
   ]
  },
  {
   "cell_type": "code",
   "execution_count": 242,
   "metadata": {},
   "outputs": [],
   "source": [
    "# Your code here:\n",
    "from sklearn.linear_model import LinearRegression\n",
    "from sklearn.model_selection import train_test_split"
   ]
  },
  {
   "cell_type": "markdown",
   "metadata": {},
   "source": [
    "#### Create a new instance of the linear regression model and assign the new instance to the variable `diabetes_model`."
   ]
  },
  {
   "cell_type": "code",
   "execution_count": 243,
   "metadata": {},
   "outputs": [],
   "source": [
    "# Your code here:\n",
    "diabetes_model = LinearRegression()"
   ]
  },
  {
   "cell_type": "markdown",
   "metadata": {},
   "source": [
    "#### Next, let's split the training and test data.\n",
    "\n",
    "Define `diabetes_data_train`, `diabetes_target_train`, `diabetes_data_test`, and `diabetes_target_test`. Use the last 20 records for the test data and the rest for the training data."
   ]
  },
  {
   "cell_type": "code",
   "execution_count": 244,
   "metadata": {},
   "outputs": [],
   "source": [
    "# Your code here:\n",
    "diabetes_data_train, diabetes_data_test, diabetes_target_train , diabetes_target_test = train_test_split(diabetes.data, diabetes.target, test_size=0.2)"
   ]
  },
  {
   "cell_type": "markdown",
   "metadata": {},
   "source": [
    "Fit the training data and target to `diabetes_model`. Print the *intercept* and *coefficients* of the model."
   ]
  },
  {
   "cell_type": "code",
   "execution_count": 245,
   "metadata": {
    "tags": []
   },
   "outputs": [
    {
     "output_type": "stream",
     "name": "stdout",
     "text": "152.04612276096546\n\n\n[ -54.34565925 -244.85925166  541.80136864  341.90893933 -897.77243819\n  510.16258507  207.7196152   268.62174399  756.28142188   58.57466723]\n"
    }
   ],
   "source": [
    "# Your code here:\n",
    "diabetes_model.fit(diabetes_data_train, diabetes_target_train)\n",
    "\n",
    "#intercept:\n",
    "print(diabetes_model.intercept_)\n",
    "print('\\n')\n",
    "#coefficients:\n",
    "print(diabetes_model.coef_)"
   ]
  },
  {
   "cell_type": "markdown",
   "metadata": {},
   "source": [
    "#### Inspecting the results\n",
    "\n",
    "From the outputs you should have seen:\n",
    "\n",
    "- The intercept is a float number.\n",
    "- The coefficients are an array containing 10 float numbers.\n",
    "\n",
    "This is the linear regression model fitted to your training dataset.\n",
    "\n",
    "#### Using your fitted linear regression model, predict the *y* of `diabetes_data_test`."
   ]
  },
  {
   "cell_type": "code",
   "execution_count": 246,
   "metadata": {},
   "outputs": [],
   "source": [
    "# Your code here:\n",
    "y_pred = diabetes_model.predict(diabetes_data_test)"
   ]
  },
  {
   "cell_type": "markdown",
   "metadata": {},
   "source": [
    "#### Print your `diabetes_target_test` and compare with the prediction. "
   ]
  },
  {
   "cell_type": "code",
   "execution_count": 247,
   "metadata": {
    "tags": []
   },
   "outputs": [
    {
     "output_type": "stream",
     "name": "stdout",
     "text": "[ 92. 206. 215.  55. 121. 230.  67.  71. 248. 178.  71.  65. 139. 104.\n  78. 185.  91. 127. 168.  39. 101.  59. 168. 295. 148. 265. 181. 200.\n  52. 283. 202. 219. 107. 306. 200.  39.  69. 190. 272. 150.  78.  42.\n  95. 168.  61.  42.  52. 151. 303. 216. 310. 219. 262.  52. 113. 217.\n  49.  97. 179.  97.  93.  99.  53.  65.  48. 131. 243.  96. 281. 154.\n 171. 296. 235.  75.  84. 186. 126. 142. 140. 103.  71. 253. 233. 257.\n  85. 275. 263. 311. 138.]\n\n\n[ 77.60493527 157.42812776 245.58702767  78.64135561 210.12786351\n 134.60017935 185.79342515 112.57948431 198.47598333 120.72602608\n  90.63916584  77.44549397 173.05300233 159.40897304  52.42710134\n 163.89313956 174.56270201 115.32483931 142.73345075  62.6188022\n  98.93224998  69.66701753 146.27948065 218.62861541 134.54342474\n 166.68107866  85.11861478 183.81548463  64.42570625 187.32049244\n 135.92023664 140.59497948 108.89649722 251.30009073 160.39726828\n  69.39988681  95.22536732 145.38611958 239.55430816 197.65229682\n 116.27975596 125.09178356 141.53957478 125.04535891 119.73216249\n  81.71692148  67.44978374 204.72240507 259.47881227 172.96565884\n 214.87341474 140.73784309 158.81244207 175.84119939 159.97518861\n 231.1791279   95.85818291 112.07168464 165.13621025 108.10278909\n 140.97585817 231.97346425  79.19447783 126.81893245 197.28828211\n 153.4843627  250.69259779 115.92800744 253.72794713 158.40690869\n 180.58038621 218.14014554 165.36882897  71.76811661  96.38800034\n 198.56603034 180.57591089 145.48286271 171.12109731 147.66030945\n 118.28986396 118.01810016 256.99427236 230.47906777 148.8075762\n 251.65890657 261.45831177 173.361245    74.15579536]\n\n\n[ 84.35319051  76.42142124 114.2265245  142.98428293 173.65939133\n  58.52181711 277.30361963 158.56265395  80.03063844  67.82361016\n 127.66079696 119.1469138  124.49856283 153.27785869  67.21423248\n  88.59088625 191.82714506  90.80696009  84.96038735 160.56103128\n  97.95272275 118.07969073  87.07111943  74.11139505  90.90771942\n  62.89852025  47.02685899  91.90774231 123.89558894  66.19098673\n  67.28724586  64.19862077 101.7724273   82.12421266  80.19863414\n 177.94842772 138.00777872  76.5190103   88.07143682 131.76819788\n 149.07661021 297.8375799  148.98902608  74.43176125 196.28223359\n 194.56409877 129.71112258 135.5777517   85.63657171  80.07669391\n  69.31400475  64.26385529  60.61543591 338.15615267 141.57096337\n 106.53416032 195.62894472 115.53781922  92.25486606 111.44617432\n 151.58694427 234.31663055 149.42354308 195.10604992 411.0172544\n 117.16363565 103.1656781  120.75834108  90.29464311 102.86162902\n 105.60256504  73.69599511  70.36971445  95.69082215 114.74761946\n 106.75593029 143.31421499 102.45272022 122.22935522 143.35952374\n 166.6054422   46.64747042 110.29797097  89.68057112 175.06773671\n  91.51232966  99.41380676  55.7431656   53.7360836 ]\n\n\n120.67970196162698\n\n\ndiabetes score TRAIN : 0.5237271307891662\n\n\nDiabetes score TEST: 0.4899998116394858\n"
    }
   ],
   "source": [
    "# Your code here:\n",
    "print(diabetes_target_test)\n",
    "print('\\n')\n",
    "print(y_pred)\n",
    "print('\\n')\n",
    "print(y_pred/diabetes_target_test*100)\n",
    "print('\\n')\n",
    "print(np.mean(y_pred/diabetes_target_test*100))\n",
    "print('\\n')\n",
    "print('diabetes score TRAIN :',diabetes_model.score(diabetes_data_train, diabetes_target_train))\n",
    "print('\\n')\n",
    "print('Diabetes score TEST:',diabetes_model.score(diabetes_data_test, diabetes_target_test))"
   ]
  },
  {
   "cell_type": "markdown",
   "metadata": {},
   "source": [
    "#### Is `diabetes_target_test` exactly the same as the model prediction? Explain."
   ]
  },
  {
   "cell_type": "code",
   "execution_count": 248,
   "metadata": {},
   "outputs": [],
   "source": [
    "# Your explanation here:\n",
    "# I don't think so! This model is nt good just 53% on the score train but i don't know about the expectitions for this data acttualy"
   ]
  },
  {
   "cell_type": "markdown",
   "metadata": {},
   "source": [
    "# Bonus Challenge 1 - Hypothesis Testing with `statsmodels`\n",
    "\n",
    "After generating the linear regression model from the dataset, you probably wonder: then what? What is the statistical way to know if my model is reliable or not?\n",
    "\n",
    "Good question. We'll discuss that using Scikit-Learn in Challenge 5. But for now, let's use a fool-proof way by using the ([Linear Regression class of StatsModels](https://www.statsmodels.org/dev/regression.html)) which can also conduct linear regression analysis plus much more such as calcuating the F-score of the linear model as well as the standard errors and t-scores for each coefficient. The F-score and t-scores will tell you whether you can trust your linear model.\n",
    "\n",
    "To understand the statistical meaning of conducting hypothesis testing (e.g. F-test, t-test) for slopes, read [this webpage](https://onlinecourses.science.psu.edu/stat501/node/297/) at your leisure time. We'll give you a brief overview next.\n",
    "\n",
    "* The F-test of your linear model is to verify whether at least one of your coefficients is significantly different from zero. Translating that into the *null hypothesis* and *alternative hypothesis*, that is:\n",
    "\n",
    "    ```\n",
    "    H0 : β1 = β2 = ... = β10 = 0\n",
    "    HA : At least one βj ≠ 0 (for j = 1, 2, ..., 10)\n",
    "    ```\n",
    "\n",
    "* The t-tests on each coefficient is to check whether the confidence interval for the variable contains zero. If the confidence interval contains zero, it means the null hypothesis for that variable is not rejected. In other words, this particular vaiable is not contributing to your linear model and you can remove it from your formula.\n",
    "\n",
    "Read the documentations of [StatsModels Linear Regression](https://www.statsmodels.org/dev/regression.html) as well as its [`OLS` class](https://www.statsmodels.org/dev/generated/statsmodels.regression.linear_model.OLS.html) which stands for *ordinary least squares*.\n",
    "\n",
    "#### In the next cell, analyze `diabetes_data_train` and `diabetes_target_train` with the linear regression model of `statsmodels`. Print the fit summary.\n",
    "\n",
    "Your output should look like:\n",
    "\n",
    "![statsmodels regression](../statsmodels.png)"
   ]
  },
  {
   "cell_type": "code",
   "execution_count": 249,
   "metadata": {},
   "outputs": [],
   "source": [
    "# Your code here:\n"
   ]
  },
  {
   "cell_type": "markdown",
   "metadata": {},
   "source": [
    "#### Interpreting hypothesis testing results\n",
    "\n",
    "Answer the following questions in the cell below:\n",
    "\n",
    "1. What is the F-score of your linear model and is the null hypothesis rejected?\n",
    "\n",
    "1. Does any of the t-tests of the coefficients produce a confidence interval containing zero? What are they?\n",
    "\n",
    "1. How will you modify your linear reguression model according to the test results above?"
   ]
  },
  {
   "cell_type": "code",
   "execution_count": 250,
   "metadata": {},
   "outputs": [],
   "source": [
    "# Your answers here:"
   ]
  },
  {
   "cell_type": "markdown",
   "metadata": {},
   "source": [
    "# Challenge 3 - Peform Supervised Learning on a Pandas Dataframe"
   ]
  },
  {
   "cell_type": "markdown",
   "metadata": {},
   "source": [
    "Now that we have dealt with data that has been formatted for scikit-learn, let's look at data that we will need to format ourselves.\n",
    "\n",
    "In the next cell, load the `auto-mpg.csv` file included in this folder and assign it to a variable called `auto`."
   ]
  },
  {
   "cell_type": "code",
   "execution_count": 251,
   "metadata": {},
   "outputs": [],
   "source": [
    "# Your code here:\n",
    "auto = pd.read_csv('../auto-mpg.csv')"
   ]
  },
  {
   "cell_type": "markdown",
   "metadata": {},
   "source": [
    "Look at the first 5 rows using the `head()` function:"
   ]
  },
  {
   "cell_type": "code",
   "execution_count": 252,
   "metadata": {},
   "outputs": [
    {
     "output_type": "execute_result",
     "data": {
      "text/plain": "    mpg  cylinders  displacement  horse_power  weight  acceleration  \\\n0  18.0          8         307.0        130.0    3504          12.0   \n1  15.0          8         350.0        165.0    3693          11.5   \n2  18.0          8         318.0        150.0    3436          11.0   \n3  16.0          8         304.0        150.0    3433          12.0   \n4  17.0          8         302.0        140.0    3449          10.5   \n\n   model_year                       car_name  \n0          70  \\t\"chevrolet chevelle malibu\"  \n1          70          \\t\"buick skylark 320\"  \n2          70         \\t\"plymouth satellite\"  \n3          70              \\t\"amc rebel sst\"  \n4          70                \\t\"ford torino\"  ",
      "text/html": "<div>\n<style scoped>\n    .dataframe tbody tr th:only-of-type {\n        vertical-align: middle;\n    }\n\n    .dataframe tbody tr th {\n        vertical-align: top;\n    }\n\n    .dataframe thead th {\n        text-align: right;\n    }\n</style>\n<table border=\"1\" class=\"dataframe\">\n  <thead>\n    <tr style=\"text-align: right;\">\n      <th></th>\n      <th>mpg</th>\n      <th>cylinders</th>\n      <th>displacement</th>\n      <th>horse_power</th>\n      <th>weight</th>\n      <th>acceleration</th>\n      <th>model_year</th>\n      <th>car_name</th>\n    </tr>\n  </thead>\n  <tbody>\n    <tr>\n      <th>0</th>\n      <td>18.0</td>\n      <td>8</td>\n      <td>307.0</td>\n      <td>130.0</td>\n      <td>3504</td>\n      <td>12.0</td>\n      <td>70</td>\n      <td>\\t\"chevrolet chevelle malibu\"</td>\n    </tr>\n    <tr>\n      <th>1</th>\n      <td>15.0</td>\n      <td>8</td>\n      <td>350.0</td>\n      <td>165.0</td>\n      <td>3693</td>\n      <td>11.5</td>\n      <td>70</td>\n      <td>\\t\"buick skylark 320\"</td>\n    </tr>\n    <tr>\n      <th>2</th>\n      <td>18.0</td>\n      <td>8</td>\n      <td>318.0</td>\n      <td>150.0</td>\n      <td>3436</td>\n      <td>11.0</td>\n      <td>70</td>\n      <td>\\t\"plymouth satellite\"</td>\n    </tr>\n    <tr>\n      <th>3</th>\n      <td>16.0</td>\n      <td>8</td>\n      <td>304.0</td>\n      <td>150.0</td>\n      <td>3433</td>\n      <td>12.0</td>\n      <td>70</td>\n      <td>\\t\"amc rebel sst\"</td>\n    </tr>\n    <tr>\n      <th>4</th>\n      <td>17.0</td>\n      <td>8</td>\n      <td>302.0</td>\n      <td>140.0</td>\n      <td>3449</td>\n      <td>10.5</td>\n      <td>70</td>\n      <td>\\t\"ford torino\"</td>\n    </tr>\n  </tbody>\n</table>\n</div>"
     },
     "metadata": {},
     "execution_count": 252
    }
   ],
   "source": [
    "# Your code here:\n",
    "auto.head()"
   ]
  },
  {
   "cell_type": "markdown",
   "metadata": {},
   "source": [
    "Evaluate the data to ensure that all numeric columns are correctly detected as such by pandas. If a column is misclassified as object, coerce it to numeric."
   ]
  },
  {
   "cell_type": "code",
   "execution_count": 253,
   "metadata": {
    "tags": []
   },
   "outputs": [
    {
     "output_type": "stream",
     "name": "stdout",
     "text": "<class 'pandas.core.frame.DataFrame'>\nRangeIndex: 398 entries, 0 to 397\nData columns (total 8 columns):\n #   Column        Non-Null Count  Dtype  \n---  ------        --------------  -----  \n 0   mpg           398 non-null    float64\n 1   cylinders     398 non-null    int64  \n 2   displacement  398 non-null    float64\n 3   horse_power   392 non-null    float64\n 4   weight        398 non-null    int64  \n 5   acceleration  398 non-null    float64\n 6   model_year    398 non-null    int64  \n 7   car_name      398 non-null    object \ndtypes: float64(4), int64(3), object(1)\nmemory usage: 25.0+ KB\n"
    },
    {
     "output_type": "execute_result",
     "data": {
      "text/plain": "(None,\n mpg             float64\n cylinders         int64\n displacement    float64\n horse_power     float64\n weight            int64\n acceleration    float64\n model_year        int64\n car_name         object\n dtype: object)"
     },
     "metadata": {},
     "execution_count": 253
    }
   ],
   "source": [
    "# Your code here:\n",
    "auto.info(), auto.dtypes"
   ]
  },
  {
   "cell_type": "markdown",
   "metadata": {},
   "source": [
    "What is the newest model year and the oldest model year?"
   ]
  },
  {
   "cell_type": "code",
   "execution_count": 254,
   "metadata": {
    "tags": []
   },
   "outputs": [
    {
     "output_type": "stream",
     "name": "stdout",
     "text": "82\n70\n"
    }
   ],
   "source": [
    "# Your code here:\n",
    "print(auto['model_year'].max())\n",
    "print(auto['model_year'].min())"
   ]
  },
  {
   "cell_type": "code",
   "execution_count": 255,
   "metadata": {},
   "outputs": [
    {
     "output_type": "execute_result",
     "data": {
      "text/plain": "count    398.000000\nmean      76.010050\nstd        3.697627\nmin       70.000000\n25%       73.000000\n50%       76.000000\n75%       79.000000\nmax       82.000000\nName: model_year, dtype: float64"
     },
     "metadata": {},
     "execution_count": 255
    }
   ],
   "source": [
    "auto.model_year.describe()"
   ]
  },
  {
   "cell_type": "markdown",
   "metadata": {},
   "source": [
    "Check the dataset for missing values and remove all rows containing at least one missing value."
   ]
  },
  {
   "cell_type": "code",
   "execution_count": 256,
   "metadata": {},
   "outputs": [
    {
     "output_type": "execute_result",
     "data": {
      "text/plain": "mpg             0\ncylinders       0\ndisplacement    0\nhorse_power     6\nweight          0\nacceleration    0\nmodel_year      0\ncar_name        0\ndtype: int64"
     },
     "metadata": {},
     "execution_count": 256
    }
   ],
   "source": [
    "# Your code here:\n",
    "auto.isna().sum()"
   ]
  },
  {
   "cell_type": "code",
   "execution_count": 257,
   "metadata": {},
   "outputs": [],
   "source": [
    "auto = auto.dropna()"
   ]
  },
  {
   "cell_type": "markdown",
   "metadata": {},
   "source": [
    "Find the frequency table for the `cylinders` column using the `value_counts()` function. How many possible values of cylinders are there?"
   ]
  },
  {
   "cell_type": "code",
   "execution_count": 258,
   "metadata": {
    "tags": []
   },
   "outputs": [
    {
     "output_type": "stream",
     "name": "stdout",
     "text": "4    199\n8    103\n6     83\n3      4\n5      3\nName: cylinders, dtype: int64\n\n\n"
    }
   ],
   "source": [
    "# Your code here:\n",
    "print(auto['cylinders'].value_counts())\n",
    "print('\\n')\n"
   ]
  },
  {
   "cell_type": "markdown",
   "metadata": {},
   "source": [
    "We would like to generate a linear regression model that will predict mpg. To do this, first drop the `car_name` column since it does not contain any quantitative data. Next separate the dataframe to predictor and response variables. Separate those into test and training data with 80% of the data in the training set and the remainder in the test set. \n",
    "\n",
    "Assign the predictor and response training data to `X_train` and `y_train` respectively. Similarly, assign the predictor and response test data to `X_test` and `y_test`.\n",
    "\n",
    "*Hint: To separate data for training and test, use the `train_test_split` method we used in previous labs.*"
   ]
  },
  {
   "cell_type": "code",
   "execution_count": 259,
   "metadata": {},
   "outputs": [],
   "source": [
    "auto = auto.drop('car_name',axis=1)"
   ]
  },
  {
   "cell_type": "code",
   "execution_count": 260,
   "metadata": {},
   "outputs": [],
   "source": [
    "X = auto.drop('mpg', axis=1)\n",
    "y = auto['mpg']"
   ]
  },
  {
   "cell_type": "code",
   "execution_count": 261,
   "metadata": {},
   "outputs": [],
   "source": [
    "X_train, X_test, y_train, y_test = train_test_split(X, y, test_size=.2)"
   ]
  },
  {
   "cell_type": "markdown",
   "metadata": {},
   "source": [
    "Now we will processed and peform linear regression on this data to predict the mpg for each vehicle. \n",
    "\n",
    "#### In the next cell, create an instance of the linear regression model and call it `auto_model`. Fit `auto_model` with your training data."
   ]
  },
  {
   "cell_type": "code",
   "execution_count": 262,
   "metadata": {},
   "outputs": [
    {
     "output_type": "execute_result",
     "data": {
      "text/plain": "LinearRegression(copy_X=True, fit_intercept=True, n_jobs=None, normalize=False)"
     },
     "metadata": {},
     "execution_count": 262
    }
   ],
   "source": [
    "# Your coauto_model = LinearRegression()\n",
    "auto_model = LinearRegression()\n",
    "auto_model.fit(X_train, y_train)\n"
   ]
  },
  {
   "cell_type": "markdown",
   "metadata": {},
   "source": [
    "# Challenge 4 - Evaluate the Model\n",
    "\n",
    "In addition to evaluating your model with F-test and t-test, you can also use the *Coefficient of Determination* (a.k.a. *r squared score*). This method does not simply tell *yes* or *no* about the model fit but instead indicates how much variation can be explained by the model. Based on the r squared score, you can decide whether to improve your model in order to obtain a better fit.\n",
    "\n",
    "You can learn about the r squared score [here](https://en.wikipedia.org/wiki/Coefficient_of_determination). In the end, we want the r-squared score to be as high as possible.\n",
    "\n",
    "#### In the next cell, compute the predicted *y* based on `X_train` and call it `y_pred`. Then calcualte the r squared score between `y_pred` and `y_train` which indicates how well the estimated regression model fits the training data.\n",
    "\n",
    "*Hint: r squared score can be calculated using `sklearn.metrics.r2_score` ([documentation](https://scikit-learn.org/stable/modules/generated/sklearn.metrics.r2_score.html)).*"
   ]
  },
  {
   "cell_type": "code",
   "execution_count": 263,
   "metadata": {
    "tags": []
   },
   "outputs": [
    {
     "output_type": "stream",
     "name": "stdout",
     "text": "R Squared Score = 0.8181985411463502\nX Train, Y Train: 0.8181985411463502\nX test Y Test: 0.7740082343341566\nY train Y pred (R2): 0.8181985411463502\nYtest Y test pred (R2): 0.7740082343341566\n"
    }
   ],
   "source": [
    "# Your code here:\n",
    "from sklearn.metrics import r2_score\n",
    "\n",
    "y_pred = auto_model.predict(X_train)\n",
    "y_test_pred = auto_model.predict(X_test)\n",
    "\n",
    "print(\"R Squared Score = \", sklearn.metrics.r2_score(y_train, y_pred))\n",
    "print('X Train, Y Train:',auto_model.score(X_train,y_train))\n",
    "print('X test Y Test:',auto_model.score(X_test,y_test))\n",
    "print('Y train Y pred (R2):',r2_score(y_train, y_pred))\n",
    "print('Ytest Y test pred (R2):',r2_score(y_test, y_test_pred))"
   ]
  },
  {
   "cell_type": "markdown",
   "metadata": {},
   "source": [
    "#### Our next step is to evaluate the model using the test data. \n",
    "\n",
    "We would like to ensure that our model is not overfitting the data. This means that our model was made to fit too closely to the training data by being overly complex. If a model is overfitted, it is not generalizable to data outside the training data. In that case, we need to reduce the complexity of the model by removing certain features (variables).\n",
    "\n",
    "In the cell below, use the model to generate the predicted values for the test data and assign them to `y_test_pred`. Compute the r squared score of the predicted `y_test_pred` and the oberserved `y_test` data."
   ]
  },
  {
   "cell_type": "code",
   "execution_count": 264,
   "metadata": {
    "tags": []
   },
   "outputs": [
    {
     "output_type": "stream",
     "name": "stdout",
     "text": "Y train Y pred (R2): 0.8181985411463502\nYtest Y test pred (R2): 0.7740082343341566\n"
    }
   ],
   "source": [
    "# Your code here:\n",
    "print('Y train Y pred (R2):',r2_score(y_train, y_pred))\n",
    "print('Ytest Y test pred (R2):',r2_score(y_test, y_test_pred))"
   ]
  },
  {
   "cell_type": "markdown",
   "metadata": {},
   "source": [
    "#### Explaining the results\n",
    "\n",
    "The r squared scores of the training data and the test data are pretty close (0.8146 vs 0.7818). This means our model is not overfitted. However, there is still room to improve the model fit. Move on to the next challenge."
   ]
  },
  {
   "cell_type": "markdown",
   "metadata": {},
   "source": [
    "# Challenge 5 - Improve the Model Fit\n",
    "\n",
    "While the most common way to improve the fit of a model is by using [regularization](https://datanice.github.io/machine-learning-101-what-is-regularization-interactive.html), there are other simpler ways to improve model fit. The first is to create a simpler model. The second is to increase the train sample size.\n",
    "\n",
    "Let us start with the easier option and increase our train sample size to 90% of the data. Create a new test train split and name the new predictors and response variables `X_train09`, `X_test09`, `y_train09`, `y_test09`."
   ]
  },
  {
   "cell_type": "code",
   "execution_count": 265,
   "metadata": {},
   "outputs": [],
   "source": [
    "# Your code here:\n",
    "X_train09, X_test09, y_train09, y_test09 = train_test_split(auto.drop('mpg',axis=1), auto.mpg, test_size=0.1)\n"
   ]
  },
  {
   "cell_type": "markdown",
   "metadata": {},
   "source": [
    "Initialize a new linear regression model. Name this model `auto_model09`. Fit the model to the new sample (training) data."
   ]
  },
  {
   "cell_type": "code",
   "execution_count": 266,
   "metadata": {},
   "outputs": [
    {
     "output_type": "execute_result",
     "data": {
      "text/plain": "LinearRegression(copy_X=True, fit_intercept=True, n_jobs=None, normalize=False)"
     },
     "metadata": {},
     "execution_count": 266
    }
   ],
   "source": [
    "# Your code here:\n",
    "auto_model09 = LinearRegression()\n",
    "auto_model09.fit(X_train09,y_train09)"
   ]
  },
  {
   "cell_type": "markdown",
   "metadata": {},
   "source": [
    "Compute the predicted values and r squared score for our new model and new sample data."
   ]
  },
  {
   "cell_type": "code",
   "execution_count": 267,
   "metadata": {
    "tags": []
   },
   "outputs": [
    {
     "output_type": "stream",
     "name": "stdout",
     "text": "0.8055728864085958\n"
    }
   ],
   "source": [
    "# Your code here:\n",
    "print(auto_model09.score(X_train09,y_train09))"
   ]
  },
  {
   "cell_type": "markdown",
   "metadata": {},
   "source": [
    "Compute the r squared score for the smaller test set. Is there an improvement in the test r squared?"
   ]
  },
  {
   "cell_type": "code",
   "execution_count": 268,
   "metadata": {
    "tags": []
   },
   "outputs": [
    {
     "output_type": "stream",
     "name": "stdout",
     "text": "0.8405346539303893\n"
    }
   ],
   "source": [
    "# Your code here:\n",
    "print(auto_model09.score(X_test09,y_test09))\n",
    "#IT IMPROVED"
   ]
  },
  {
   "cell_type": "markdown",
   "metadata": {},
   "source": [
    "# Bonus Challenge 2 - Backward Elimination \n",
    "\n",
    "The main way to produce a simpler linear regression model is to reduce the number of variables used in the model. In scikit-learn, we can do this by using recursive feature elimination. You can read more about RFE [here](https://scikit-learn.org/stable/modules/generated/sklearn.feature_selection.RFE.html).\n",
    "\n",
    "In the next cell, we will import RFE"
   ]
  },
  {
   "cell_type": "code",
   "execution_count": 275,
   "metadata": {},
   "outputs": [],
   "source": [
    "from sklearn.feature_selection import RFE"
   ]
  },
  {
   "cell_type": "markdown",
   "metadata": {},
   "source": [
    "Follow the documentation and initialize an RFE model using the `auto_model` linear regression model. Set `n_features_to_select=3`"
   ]
  },
  {
   "cell_type": "code",
   "execution_count": 276,
   "metadata": {},
   "outputs": [],
   "source": [
    "# Your code here:\n",
    "RFE = sklearn.feature_selection.RFE(auto_model, n_features_to_select=3) "
   ]
  },
  {
   "cell_type": "markdown",
   "metadata": {},
   "source": [
    "Fit the model and print the ranking"
   ]
  },
  {
   "cell_type": "code",
   "execution_count": 277,
   "metadata": {
    "tags": []
   },
   "outputs": [
    {
     "output_type": "stream",
     "name": "stdout",
     "text": "[1 2 4 3 1 1]\n"
    }
   ],
   "source": [
    "# Your code here:\n",
    "rfe = RFE.fit(X_train, y_train)\n",
    "print(rfe.ranking_)"
   ]
  },
  {
   "cell_type": "markdown",
   "metadata": {},
   "source": [
    "Feature importance is ranked from most important (1) to least important (4). Generate a model with the three most important features. The features correspond to variable names. For example, feature 1 is `cylinders` and feature 2 is `displacement`.\n",
    "\n",
    "Perform a test-train split on this reduced column data and call the split data `X_train_reduced`, `X_test_reduced`, `y_test_reduced`, `y_train_reduced`. Use an 80% split."
   ]
  },
  {
   "cell_type": "code",
   "execution_count": 278,
   "metadata": {},
   "outputs": [],
   "source": [
    "# Your code here:\n",
    "X_reduced = auto[['cylinders','acceleration','model_year']]\n",
    "y_reduced = auto['mpg']\n",
    "X_train_reduced, X_test_reduced, y_train_reduced, y_test_reduced = train_test_split(X_reduced, y_reduced, test_size=.2)"
   ]
  },
  {
   "cell_type": "markdown",
   "metadata": {},
   "source": [
    "Generate a new model called `auto_model_reduced` and fit this model. Then proceed to compute the r squared score for the model. Did this cause an improvement in the r squared score?"
   ]
  },
  {
   "cell_type": "code",
   "execution_count": 287,
   "metadata": {},
   "outputs": [
    {
     "output_type": "execute_result",
     "data": {
      "text/plain": "LinearRegression(copy_X=True, fit_intercept=True, n_jobs=None, normalize=False)"
     },
     "metadata": {},
     "execution_count": 287
    }
   ],
   "source": [
    "# Your code here:\n",
    "auto_model_reduced = LinearRegression()\n",
    "auto_model_reduced.fit(X_train_reduced, y_train_reduced)\n",
    "\n"
   ]
  },
  {
   "cell_type": "code",
   "execution_count": 288,
   "metadata": {
    "tags": []
   },
   "outputs": [
    {
     "output_type": "stream",
     "name": "stdout",
     "text": "R² Score: <function r2_score at 0x00000227BDC0C558>\n"
    },
    {
     "output_type": "execute_result",
     "data": {
      "text/plain": "(224    15.0\n 223    15.5\n 168    23.0\n 342    30.0\n 394    44.0\n 162    15.0\n 337    32.4\n 88     14.0\n 207    20.0\n 225    17.5\n 199    20.0\n 235    26.0\n 184    25.0\n 339    26.6\n 303    31.8\n 131    32.0\n 16     18.0\n 195    29.0\n 237    30.5\n 146    28.0\n 249    19.9\n 341    23.5\n 178    23.0\n 117    29.0\n 290    15.5\n 377    31.0\n 397    31.0\n 253    20.5\n 94     13.0\n 344    39.0\n 382    34.0\n 228    18.5\n 79     26.0\n 175    29.0\n 10     15.0\n 68     13.0\n 18     27.0\n 174    18.0\n 254    20.2\n 156    16.0\n Name: mpg, dtype: float64,\n 271    23.2\n 304    37.3\n 258    20.6\n 335    35.0\n 153    18.0\n        ... \n 388    26.0\n 316    19.1\n 109    21.0\n 347    37.0\n 149    24.0\n Name: mpg, Length: 352, dtype: float64)"
     },
     "metadata": {},
     "execution_count": 288
    }
   ],
   "source": [
    "y_pred_red = auto_model_reduced.predict(X_train_reduced)\n",
    "print('R² Score:', sklearn.metrics.r2_score)\n",
    "(y_test09, y_train09)"
   ]
  },
  {
   "cell_type": "markdown",
   "metadata": {},
   "source": [
    "#### Conclusion\n",
    "\n",
    "You may obtain the impression from this lab that without knowing statistical methods in depth, it is difficult to make major progress in machine learning. That is correct. If you are motivated to become a data scientist, statistics is the subject you must be proficient in and there is no shortcut. \n",
    "\n",
    "Completing these labs is not likely to make you a data scientist. But you will have a good sense about what are there in machine learning and what are good for you. In your future career, you can choose one of the three tracks:\n",
    "\n",
    "* Data scientists who need to be proficient in statistical methods.\n",
    "\n",
    "* Data engineers who need to be good at programming.\n",
    "\n",
    "* Data integration specialists who are business or content experts but also understand data and programming. This cross-disciplinary track brings together data, technology, and business and will be in high demands in the next decade."
   ]
  }
 ],
 "metadata": {
  "kernelspec": {
   "display_name": "Python 3",
   "language": "python",
   "name": "python3"
  },
  "language_info": {
   "codemirror_mode": {
    "name": "ipython",
    "version": 3
   },
   "file_extension": ".py",
   "mimetype": "text/x-python",
   "name": "python",
   "nbconvert_exporter": "python",
   "pygments_lexer": "ipython3",
   "version": "3.6.9"
  }
 },
 "nbformat": 4,
 "nbformat_minor": 2
}